{
  "nbformat": 4,
  "nbformat_minor": 0,
  "metadata": {
    "colab": {
      "provenance": [],
      "authorship_tag": "ABX9TyOI6wV1KYDxNrAoLm1bHCBF",
      "include_colab_link": true
    },
    "kernelspec": {
      "name": "python3",
      "display_name": "Python 3"
    },
    "language_info": {
      "name": "python"
    }
  },
  "cells": [
    {
      "cell_type": "markdown",
      "metadata": {
        "id": "view-in-github",
        "colab_type": "text"
      },
      "source": [
        "<a href=\"https://colab.research.google.com/github/ardeldelululili/tugas-pertemuan-3/blob/main/ardeliatugaspertemuan3.ipynb\" target=\"_parent\"><img src=\"https://colab.research.google.com/assets/colab-badge.svg\" alt=\"Open In Colab\"/></a>"
      ]
    },
    {
      "cell_type": "code",
      "source": [
        "pip install pandas\n"
      ],
      "metadata": {
        "colab": {
          "base_uri": "https://localhost:8080/"
        },
        "id": "HOOJ9gK9QYpP",
        "outputId": "828e8742-4a28-4e4a-cd19-d9b5e43cec42"
      },
      "execution_count": 3,
      "outputs": [
        {
          "output_type": "stream",
          "name": "stdout",
          "text": [
            "Requirement already satisfied: pandas in /usr/local/lib/python3.10/dist-packages (1.5.3)\n",
            "Requirement already satisfied: python-dateutil>=2.8.1 in /usr/local/lib/python3.10/dist-packages (from pandas) (2.8.2)\n",
            "Requirement already satisfied: pytz>=2020.1 in /usr/local/lib/python3.10/dist-packages (from pandas) (2023.4)\n",
            "Requirement already satisfied: numpy>=1.21.0 in /usr/local/lib/python3.10/dist-packages (from pandas) (1.25.2)\n",
            "Requirement already satisfied: six>=1.5 in /usr/local/lib/python3.10/dist-packages (from python-dateutil>=2.8.1->pandas) (1.16.0)\n"
          ]
        }
      ]
    },
    {
      "cell_type": "code",
      "source": [
        "import pandas as pd\n",
        "import numpy as np\n"
      ],
      "metadata": {
        "id": "wUo97rnJQsRs"
      },
      "execution_count": 4,
      "outputs": []
    },
    {
      "cell_type": "code",
      "source": [
        "import pandas\n",
        "pandas.__version__"
      ],
      "metadata": {
        "colab": {
          "base_uri": "https://localhost:8080/",
          "height": 35
        },
        "id": "lGID1r-LQ4aX",
        "outputId": "4df4cf1f-f4e1-48db-b41f-4418cb4b7242"
      },
      "execution_count": 6,
      "outputs": [
        {
          "output_type": "execute_result",
          "data": {
            "text/plain": [
              "'1.5.3'"
            ],
            "application/vnd.google.colaboratory.intrinsic+json": {
              "type": "string"
            }
          },
          "metadata": {},
          "execution_count": 6
        }
      ]
    },
    {
      "cell_type": "code",
      "source": [
        "data = pd.Series([0.25,0.5,0.75,1.0])\n",
        "data"
      ],
      "metadata": {
        "colab": {
          "base_uri": "https://localhost:8080/"
        },
        "id": "Lkm10j5dRbpm",
        "outputId": "d394c861-853e-44c3-ef2a-d7fdcfd51fbb"
      },
      "execution_count": 12,
      "outputs": [
        {
          "output_type": "execute_result",
          "data": {
            "text/plain": [
              "0    0.25\n",
              "1    0.50\n",
              "2    0.75\n",
              "3    1.00\n",
              "dtype: float64"
            ]
          },
          "metadata": {},
          "execution_count": 12
        }
      ]
    },
    {
      "cell_type": "code",
      "source": [
        "data.values"
      ],
      "metadata": {
        "colab": {
          "base_uri": "https://localhost:8080/"
        },
        "id": "cHaYUgxoSU-e",
        "outputId": "d88bb2cc-c022-4fe5-902a-2f3c16bb67cd"
      },
      "execution_count": 18,
      "outputs": [
        {
          "output_type": "execute_result",
          "data": {
            "text/plain": [
              "array([0.25, 0.5 , 0.75, 1.  ])"
            ]
          },
          "metadata": {},
          "execution_count": 18
        }
      ]
    },
    {
      "cell_type": "code",
      "source": [
        "data[1:3]"
      ],
      "metadata": {
        "colab": {
          "base_uri": "https://localhost:8080/"
        },
        "id": "rqlW359STWex",
        "outputId": "9d599def-a8fc-4c6e-a631-7f6d5646aa85"
      },
      "execution_count": 19,
      "outputs": [
        {
          "output_type": "execute_result",
          "data": {
            "text/plain": [
              "1    0.50\n",
              "2    0.75\n",
              "dtype: float64"
            ]
          },
          "metadata": {},
          "execution_count": 19
        }
      ]
    },
    {
      "cell_type": "code",
      "source": [
        "import pandas as pd\n",
        "#Calling DataFrame constructor\n",
        "df = pd.DataFrame()\n",
        "print(df)\n",
        "#list of strings\n",
        "lst = ['Ayo','Belajar','Data','Science','Bersama','DQLab']\n",
        "#calling Dataframe constructor on list\n",
        "df= pd.DataFrame(lst)\n",
        "print(df)"
      ],
      "metadata": {
        "colab": {
          "base_uri": "https://localhost:8080/"
        },
        "id": "6ocgR1kyTjVE",
        "outputId": "90d417dc-da26-47c7-eee1-df2570a61e49"
      },
      "execution_count": 24,
      "outputs": [
        {
          "output_type": "stream",
          "name": "stdout",
          "text": [
            "Empty DataFrame\n",
            "Columns: []\n",
            "Index: []\n",
            "         0\n",
            "0      Ayo\n",
            "1  Belajar\n",
            "2     Data\n",
            "3  Science\n",
            "4  Bersama\n",
            "5    DQLab\n"
          ]
        }
      ]
    },
    {
      "cell_type": "markdown",
      "source": [],
      "metadata": {
        "id": "UnIM7WyVV4ub"
      }
    },
    {
      "cell_type": "code",
      "source": [
        "import pandas as pd\n",
        "\n",
        "# DataFrame\n",
        "matrix = [[1,2,3],\n",
        "          ['a','b','c'],\n",
        "          [3, 4, 5],\n",
        "          ['d', 4, 6]]\n",
        "matrix_list = pd.DataFrame(matrix)\n",
        "print(\"DataFrame\")\n",
        "print(matrix_list)"
      ],
      "metadata": {
        "colab": {
          "base_uri": "https://localhost:8080/"
        },
        "id": "S9prTiGLWthd",
        "outputId": "718d8dd9-76f3-4916-f643-2bd080a9031f"
      },
      "execution_count": 33,
      "outputs": [
        {
          "output_type": "stream",
          "name": "stdout",
          "text": [
            "DataFrame\n",
            "   0  1  2\n",
            "0  1  2  3\n",
            "1  a  b  c\n",
            "2  3  4  5\n",
            "3  d  4  6\n"
          ]
        }
      ]
    },
    {
      "cell_type": "code",
      "source": [
        "import pandas as pd\n",
        "# Series\n",
        "number_list = pd.Series([1,2,3,4,5,6])\n",
        "# DataFrame\n",
        "matrix_list = pd.DataFrame([[1,2,3],\n",
        "                            ['a','b','c'],\n",
        "                            [3,4,5],\n",
        "                            ['d',4,6]])\n",
        "# [1] method .info()\n",
        "print(\"[1]method .info()\")\n",
        "print(matrix_list.info)\n",
        "# {2} atrribute .shape\n",
        "print(\"\\n[2]attribute .shape\")\n",
        "print(\"   Shape dari number list:\", number_list.shape)\n",
        "print(\"   Shape dari matrix_list:\", matrix_list.shape)\n",
        "#[3] attribute .dtypes\n",
        "print(\"\\n[3]attribute .dytpes\")\n",
        "print(\"    Tipe data number_list:\", number_list.dtypes)\n",
        "print(\"    Tipe data matrix_list:\", matrix_list.dtypes)\n",
        "#[4] attribute .astype()\n",
        "print(\"\\n{4}method .astype()\")\n",
        "print(\"   Konversi number_list ke str:\", number_list.astype(\"str\"))\n",
        "print(\"   Konversi matrix_list ke str:\", matrix_list.astype(\"str\"))"
      ],
      "metadata": {
        "colab": {
          "base_uri": "https://localhost:8080/"
        },
        "id": "SWhTYdIIYK8x",
        "outputId": "1dec74b5-cd98-4938-f79d-85b3f0c5465f"
      },
      "execution_count": 34,
      "outputs": [
        {
          "output_type": "stream",
          "name": "stdout",
          "text": [
            "[1]method .info()\n",
            "<bound method DataFrame.info of    0  1  2\n",
            "0  1  2  3\n",
            "1  a  b  c\n",
            "2  3  4  5\n",
            "3  d  4  6>\n",
            "\n",
            "[2]attribute .shape\n",
            "   Shape dari number list: (6,)\n",
            "   Shape dari matrix_list: (4, 3)\n",
            "\n",
            "[3]attribute .dytpes\n",
            "    Tipe data number_list: int64\n",
            "    Tipe data matrix_list: 0    object\n",
            "1    object\n",
            "2    object\n",
            "dtype: object\n",
            "\n",
            "{4}method .astype()\n",
            "   Konversi number_list ke str: 0    1\n",
            "1    2\n",
            "2    3\n",
            "3    4\n",
            "4    5\n",
            "5    6\n",
            "dtype: object\n",
            "   Konversi matrix_list ke str:    0  1  2\n",
            "0  1  2  3\n",
            "1  a  b  c\n",
            "2  3  4  5\n",
            "3  d  4  6\n"
          ]
        }
      ]
    },
    {
      "cell_type": "code",
      "source": [
        "data = {\n",
        "    'Nama': ['Arfian Purnama', 'Alisa Dityaningrum', 'Kiki Anggraeni', 'Rizky Kurniawan'],\n",
        "    'Gender': ['L', 'P', 'P', 'L'],\n",
        "    'No. Telepon': ['081267001022', '087823560918', '089654009102', '082267018967'],\n",
        "}\n",
        "\n",
        "# Membuat DataFrame\n",
        "df = pd.DataFrame(data)\n",
        "\n",
        "# menampilan DataFrame\n",
        "print(df)"
      ],
      "metadata": {
        "colab": {
          "base_uri": "https://localhost:8080/"
        },
        "id": "ZlNLBJgAo-k2",
        "outputId": "09ff80ca-cb2e-4a34-aa8a-4f720543bac1"
      },
      "execution_count": 37,
      "outputs": [
        {
          "output_type": "stream",
          "name": "stdout",
          "text": [
            "                 Nama Gender   No. Telepon\n",
            "0      Arfian Purnama      L  081267001022\n",
            "1  Alisa Dityaningrum      P  087823560918\n",
            "2      Kiki Anggraeni      P  089654009102\n",
            "3     Rizky Kurniawan      L  082267018967\n"
          ]
        }
      ]
    },
    {
      "cell_type": "code",
      "source": [
        "data = {\n",
        "    'Nama': ['Arfian Purnama', 'Alisa Dityaningrum', 'Kiki Anggraeni', 'Rizky Kurniawan'],\n",
        "    'Gender': ['L', 'P', 'P', 'L'],\n",
        "    'No. Telepon': ['081267001022', '087823560918', '089654009102', '082267018967'],\n",
        "    'Tugas': [80, 89, 76, 80],\n",
        "    'UAS': [88, 78, 90, 81],\n",
        "    'UTS': [90, 89, 85, 82]\n",
        "}\n",
        "\n",
        "# Membuat DataFrame\n",
        "df = pd.DataFrame(data)\n",
        "df[\"Nilai akhir\"] = 0.3 * df[\"Tugas\"] + 0.3 * df[\"UAS\"] + 0.4 * df[\"UTS\"]\n",
        "df\n",
        "# menampilan DataFrame\n",
        "print(df)"
      ],
      "metadata": {
        "colab": {
          "base_uri": "https://localhost:8080/"
        },
        "id": "mez8yRd7bLpm",
        "outputId": "a123090a-c8d6-46ab-809c-64a4e57713f8"
      },
      "execution_count": 36,
      "outputs": [
        {
          "output_type": "stream",
          "name": "stdout",
          "text": [
            "                 Nama Gender   No. Telepon  Tugas  UAS  UTS  Nilai akhir\n",
            "0      Arfian Purnama      L  081267001022     80   88   90         86.4\n",
            "1  Alisa Dityaningrum      P  087823560918     89   78   89         85.7\n",
            "2      Kiki Anggraeni      P  089654009102     76   90   85         83.8\n",
            "3     Rizky Kurniawan      L  082267018967     80   81   82         81.1\n"
          ]
        }
      ]
    },
    {
      "cell_type": "code",
      "source": [],
      "metadata": {
        "id": "cpr1CiIeZ-Sf"
      },
      "execution_count": null,
      "outputs": []
    },
    {
      "cell_type": "code",
      "source": [],
      "metadata": {
        "id": "HEc52Ua-Z9nG"
      },
      "execution_count": null,
      "outputs": []
    },
    {
      "cell_type": "code",
      "source": [],
      "metadata": {
        "id": "uwy-NoVVZ2hm"
      },
      "execution_count": null,
      "outputs": []
    },
    {
      "cell_type": "code",
      "source": [],
      "metadata": {
        "id": "QJYPRcdPZgKZ"
      },
      "execution_count": null,
      "outputs": []
    },
    {
      "cell_type": "markdown",
      "source": [],
      "metadata": {
        "id": "2_UkqjLmV37V"
      }
    },
    {
      "cell_type": "code",
      "source": [],
      "metadata": {
        "id": "CTNRxEpFSPi-"
      },
      "execution_count": null,
      "outputs": []
    }
  ]
}